{
 "cells": [
  {
   "cell_type": "markdown",
   "metadata": {},
   "source": [
    "convert string to lowercase without using built in functions"
   ]
  },
  {
   "cell_type": "code",
   "execution_count": 27,
   "metadata": {},
   "outputs": [
    {
     "name": "stdout",
     "output_type": "stream",
     "text": [
      "mailar434\n"
     ]
    }
   ],
   "source": [
    "str=input(\"Enter a string input : \")\n",
    "str2=\"\"\n",
    "for char in str:\n",
    "    \n",
    "    if ord(char)>=65 and ord(char)<=90:\n",
    "        str2+=chr(ord(char)+32)\n",
    "    else:\n",
    "        str2+=char\n",
    "        \n",
    "print(str2)"
   ]
  },
  {
   "cell_type": "markdown",
   "metadata": {},
   "source": [
    "Merge two dictionaries \n",
    "d1= {\"a\":1,\"b\":2}\n",
    "d2={\"b\":3, \"c\":4}\n",
    "result={\"a\":1,\"b\":3,\"c\":4}"
   ]
  },
  {
   "cell_type": "code",
   "execution_count": 33,
   "metadata": {},
   "outputs": [
    {
     "name": "stdout",
     "output_type": "stream",
     "text": [
      "{'a': 1, 'b': 2}\n",
      "{'b': 3, 'c': 4}\n",
      "{'a': 1, 'b': 3, 'c': 4}\n",
      "{'a': 1, 'b': 3, 'c': 4}\n",
      "{'a': 1, 'b': 3, 'c': 4}\n"
     ]
    }
   ],
   "source": [
    "d1= {\"a\":1,\"b\":2}\n",
    "d2={\"b\":3, \"c\":4}\n",
    "print(d1)\n",
    "print(d2)\n",
    "result={}\n",
    "result=d1 | d2\n",
    "\n",
    "\n",
    "\n",
    "\n",
    "\n"
   ]
  },
  {
   "cell_type": "code",
   "execution_count": 37,
   "metadata": {},
   "outputs": [
    {
     "name": "stdout",
     "output_type": "stream",
     "text": [
      "{'a': 1, 'b': 3, 'c': 4}\n"
     ]
    }
   ],
   "source": [
    "print(d1|d2)"
   ]
  },
  {
   "cell_type": "code",
   "execution_count": 36,
   "metadata": {},
   "outputs": [
    {
     "name": "stdout",
     "output_type": "stream",
     "text": [
      "{'a': 1, 'b': 3, 'c': 4}\n"
     ]
    }
   ],
   "source": [
    "d3={**d1, **d2}\n",
    "print(d3)"
   ]
  },
  {
   "cell_type": "code",
   "execution_count": 38,
   "metadata": {},
   "outputs": [
    {
     "name": "stdout",
     "output_type": "stream",
     "text": [
      "{'a': 1, 'b': 3, 'c': 4}\n"
     ]
    }
   ],
   "source": [
    "d1.update(d2)\n",
    "print(d1)"
   ]
  },
  {
   "cell_type": "markdown",
   "metadata": {},
   "source": [
    "Output of the code?\n",
    "a=-(100%30) // 3"
   ]
  },
  {
   "cell_type": "code",
   "execution_count": 39,
   "metadata": {},
   "outputs": [
    {
     "name": "stdout",
     "output_type": "stream",
     "text": [
      "-4\n"
     ]
    }
   ],
   "source": [
    "a=-(100%30) // 3\n",
    "print(a)"
   ]
  },
  {
   "cell_type": "markdown",
   "metadata": {},
   "source": [
    "Is this correct ?\n",
    "def foo(a,b=6,c,d):\n",
    "    return a+b+c+d\n",
    "Answer:"
   ]
  },
  {
   "cell_type": "code",
   "execution_count": 40,
   "metadata": {},
   "outputs": [
    {
     "ename": "SyntaxError",
     "evalue": "non-default argument follows default argument (813909170.py, line 1)",
     "output_type": "error",
     "traceback": [
      "\u001b[1;36m  Cell \u001b[1;32mIn[40], line 1\u001b[1;36m\u001b[0m\n\u001b[1;33m    def foo(a,b=6,c,d):\u001b[0m\n\u001b[1;37m                  ^\u001b[0m\n\u001b[1;31mSyntaxError\u001b[0m\u001b[1;31m:\u001b[0m non-default argument follows default argument\n"
     ]
    }
   ],
   "source": [
    "def foo(a,b=6,c,d):\n",
    "    return a+b+c+d"
   ]
  },
  {
   "cell_type": "code",
   "execution_count": 41,
   "metadata": {},
   "outputs": [],
   "source": [
    "def foo(a,b=6,c=0,d=0):\n",
    "    return a+b+c+d"
   ]
  },
  {
   "cell_type": "code",
   "execution_count": 42,
   "metadata": {},
   "outputs": [],
   "source": [
    "def foo(a,c,d,b=6):\n",
    "    return a+b+c+d"
   ]
  },
  {
   "cell_type": "markdown",
   "metadata": {},
   "source": [
    "take a string as input and print the number of unique characters present in that string\n",
    "Eg abccdd - 4"
   ]
  },
  {
   "cell_type": "code",
   "execution_count": 45,
   "metadata": {},
   "outputs": [
    {
     "name": "stdout",
     "output_type": "stream",
     "text": [
      "1\n"
     ]
    }
   ],
   "source": [
    "string=input(\"Enter the input string \")\n",
    "\n",
    "hashset=set(string)\n",
    "print(len(hashset))"
   ]
  },
  {
   "cell_type": "markdown",
   "metadata": {},
   "source": [
    "Given a string input, ascertain wheather the string contains a complete binary number or not\n",
    "Eg. \"00001100101010ab\" is not a binary number\n",
    "     \"0010101011110101011\" is a binary number"
   ]
  },
  {
   "cell_type": "code",
   "execution_count": 59,
   "metadata": {},
   "outputs": [
    {
     "name": "stdout",
     "output_type": "stream",
     "text": [
      "Binary\n"
     ]
    }
   ],
   "source": [
    "string=input()\n",
    "\n",
    "if all(str=='1' or str =='0' for str in string):\n",
    "    print(\"Binary\")\n",
    "else:\n",
    "    print(\"Not a binary\")"
   ]
  },
  {
   "cell_type": "code",
   "execution_count": 58,
   "metadata": {},
   "outputs": [
    {
     "data": {
      "text/plain": [
       "False"
      ]
     },
     "execution_count": 58,
     "metadata": {},
     "output_type": "execute_result"
    }
   ],
   "source": [
    "def check_binary(string):\n",
    "    set_chars=set(string)\n",
    "    if len(set_chars) not in [1,2]:\n",
    "        return False\n",
    "    if set_chars<= {'0','1'}:\n",
    "        return True\n",
    "    else:\n",
    "        return False \n",
    "\n",
    "check_binary(\"000000000111111111\")\n",
    "check_binary(\"aassa0100100\")\n",
    "check_binary(\"\")\n",
    "        "
   ]
  },
  {
   "cell_type": "code",
   "execution_count": null,
   "metadata": {},
   "outputs": [],
   "source": []
  },
  {
   "cell_type": "code",
   "execution_count": 52,
   "metadata": {},
   "outputs": [
    {
     "name": "stdout",
     "output_type": "stream",
     "text": [
      "True\n"
     ]
    }
   ],
   "source": [
    "set1={0,1}\n",
    "set2={1,0}\n",
    "print({0,1}=={1,0})"
   ]
  },
  {
   "cell_type": "markdown",
   "metadata": {},
   "source": [
    "Take a string as input and\n",
    "Create a dictionary containing key value pair for each unique character with value being its number of occurence\n",
    "input=\"abcdda\"\n",
    "output ={a:2,b:1,c:1,d:2}"
   ]
  },
  {
   "cell_type": "code",
   "execution_count": 62,
   "metadata": {},
   "outputs": [
    {
     "name": "stdout",
     "output_type": "stream",
     "text": [
      "{'r': 2, 's': 4, 't': 3}\n"
     ]
    }
   ],
   "source": [
    "#string=input()\n",
    "string=\"rrssssttt\"\n",
    "dict={}\n",
    "for char in string:\n",
    "    dict[char]=dict.get(char,0)+1\n",
    "print(dict)"
   ]
  },
  {
   "cell_type": "code",
   "execution_count": 61,
   "metadata": {},
   "outputs": [
    {
     "name": "stdout",
     "output_type": "stream",
     "text": [
      "{'r': 2, 's': 4, 't': 3}\n"
     ]
    }
   ],
   "source": [
    "string=\"rrssssttt\"\n",
    "result={}\n",
    "for char in set(string):\n",
    "    result[char]=string.count(char)\n",
    "print(result)"
   ]
  },
  {
   "cell_type": "markdown",
   "metadata": {},
   "source": [
    "print multiplication table of all numbers from 1 to N and take N as input.\n",
    "Try single line logic"
   ]
  },
  {
   "cell_type": "code",
   "execution_count": 64,
   "metadata": {},
   "outputs": [
    {
     "name": "stdout",
     "output_type": "stream",
     "text": [
      "1 * 1=1\n",
      "1 * 2=2\n",
      "1 * 3=3\n",
      "1 * 4=4\n",
      "1 * 5=5\n",
      "1 * 6=6\n",
      "1 * 7=7\n",
      "1 * 8=8\n",
      "1 * 9=9\n",
      "2 * 1=2\n",
      "2 * 2=4\n",
      "2 * 3=6\n",
      "2 * 4=8\n",
      "2 * 5=10\n",
      "2 * 6=12\n",
      "2 * 7=14\n",
      "2 * 8=16\n",
      "2 * 9=18\n",
      "3 * 1=3\n",
      "3 * 2=6\n",
      "3 * 3=9\n",
      "3 * 4=12\n",
      "3 * 5=15\n",
      "3 * 6=18\n",
      "3 * 7=21\n",
      "3 * 8=24\n",
      "3 * 9=27\n",
      "4 * 1=4\n",
      "4 * 2=8\n",
      "4 * 3=12\n",
      "4 * 4=16\n",
      "4 * 5=20\n",
      "4 * 6=24\n",
      "4 * 7=28\n",
      "4 * 8=32\n",
      "4 * 9=36\n"
     ]
    }
   ],
   "source": [
    "N=int(input())\n",
    "for i in range(1,N):\n",
    "    for j in range(1,10):\n",
    "        print(f\"{i} * {j}={i*j}\") "
   ]
  },
  {
   "cell_type": "code",
   "execution_count": 69,
   "metadata": {},
   "outputs": [
    {
     "data": {
      "text/plain": [
       "[[1, 2, 3, 4, 5, 6, 7, 8, 9, 10],\n",
       " [2, 4, 6, 8, 10, 12, 14, 16, 18, 20],\n",
       " [3, 6, 9, 12, 15, 18, 21, 24, 27, 30],\n",
       " [4, 8, 12, 16, 20, 24, 28, 32, 36, 40],\n",
       " [5, 10, 15, 20, 25, 30, 35, 40, 45, 50]]"
      ]
     },
     "execution_count": 69,
     "metadata": {},
     "output_type": "execute_result"
    }
   ],
   "source": [
    "N=int(input())\n",
    "[[i*j for j in range(1,11)] for i in range(1,N+1)]"
   ]
  },
  {
   "cell_type": "markdown",
   "metadata": {},
   "source": [
    "write a list flattener function\n",
    "input [1,2,3,[4,5],[[[[5,6,7],[8,9,0]]]]]\n",
    "output [1,2,3,4,5]"
   ]
  },
  {
   "cell_type": "code",
   "execution_count": 84,
   "metadata": {},
   "outputs": [
    {
     "name": "stdout",
     "output_type": "stream",
     "text": [
      "[1, [2, 3], 4, 5, 6, 7]\n"
     ]
    }
   ],
   "source": [
    "inputList=[1,2,3,[4,5],[[[[5,6,7],[8,9,0]]]]] \n",
    "\n",
    "inputList=[[1], [2, 3], [4, 5, 6, 7]]\n",
    "flatlist=sum(inputList,[]) # works for only one level depth\n",
    "print(flatlist)"
   ]
  },
  {
   "cell_type": "code",
   "execution_count": 92,
   "metadata": {},
   "outputs": [
    {
     "ename": "TypeError",
     "evalue": "'int' object is not iterable",
     "output_type": "error",
     "traceback": [
      "\u001b[1;31m---------------------------------------------------------------------------\u001b[0m",
      "\u001b[1;31mTypeError\u001b[0m                                 Traceback (most recent call last)",
      "Cell \u001b[1;32mIn[92], line 6\u001b[0m\n\u001b[0;32m      4\u001b[0m result\u001b[39m=\u001b[39m[]\n\u001b[0;32m      5\u001b[0m \u001b[39mfor\u001b[39;00m i \u001b[39min\u001b[39;00m inputList:\n\u001b[1;32m----> 6\u001b[0m     result\u001b[39m.\u001b[39;49mextend(i)\n\u001b[0;32m      7\u001b[0m \u001b[39mprint\u001b[39m(result)\n",
      "\u001b[1;31mTypeError\u001b[0m: 'int' object is not iterable"
     ]
    }
   ],
   "source": [
    "inputList=[1,2,3,[4,5],[[[[5,6,7],[8,9,0]]]]] \n",
    "#inputList= [[11, 22, 33, 44], [55, 66, 77], [88, 99, 100]]\n",
    "#flatList=[element for innerList in inputList for element in innerList]\n",
    "result=[]\n",
    "for i in inputList:\n",
    "    result.extend(i)\n",
    "print(result)"
   ]
  },
  {
   "cell_type": "code",
   "execution_count": 93,
   "metadata": {},
   "outputs": [
    {
     "name": "stdout",
     "output_type": "stream",
     "text": [
      "[1, 2, 3, 4, 5, [[[5, 6, 7], [8, 9, 0]]]]\n"
     ]
    }
   ],
   "source": [
    "def flat(lis):\n",
    "    flatList = []\n",
    "    # Iterate with outer list\n",
    "    for element in lis:\n",
    "        if type(element) is list:\n",
    "            # Check if type is list than iterate through the sublist\n",
    "            for item in element:\n",
    "                flatList.append(item)\n",
    "        else:\n",
    "            flatList.append(element)\n",
    "    return flatList\n",
    "\n",
    "inputList=[1,2,3,[4,5],[[[[5,6,7],[8,9,0]]]]] \n",
    "\n",
    "print(flat(inputList))\n"
   ]
  },
  {
   "cell_type": "code",
   "execution_count": 95,
   "metadata": {},
   "outputs": [
    {
     "name": "stdout",
     "output_type": "stream",
     "text": [
      "[1, 2, 3, 4, 5, 5, 6, 7, 8, 9, 0]\n"
     ]
    }
   ],
   "source": [
    "def reemovNestings(l,output):\n",
    "    for i in l:\n",
    "        if type(i) == list:\n",
    "            reemovNestings(i,output)\n",
    "        else:\n",
    "            output.append(i)\n",
    "inputList=[1,2,3,[4,5],[[[[5,6,7],[8,9,0]]]]] \n",
    "output=[]\n",
    "reemovNestings(inputList,output)\n",
    "print(output) "
   ]
  },
  {
   "cell_type": "code",
   "execution_count": 96,
   "metadata": {},
   "outputs": [
    {
     "name": "stdout",
     "output_type": "stream",
     "text": [
      "False\n"
     ]
    }
   ],
   "source": [
    "s = \"My PO Box number is 310\"\n",
    "print(s.isspace())"
   ]
  },
  {
   "cell_type": "code",
   "execution_count": 100,
   "metadata": {},
   "outputs": [
    {
     "name": "stdout",
     "output_type": "stream",
     "text": [
      "123456\n"
     ]
    }
   ],
   "source": [
    "x=\"12345\"+'6'\n",
    "print(x)"
   ]
  },
  {
   "cell_type": "code",
   "execution_count": 102,
   "metadata": {},
   "outputs": [
    {
     "name": "stdout",
     "output_type": "stream",
     "text": [
      "False False\n"
     ]
    }
   ],
   "source": [
    "print(\"Data\" > \"Dtaa\", \"Science\" < \"Scien\")"
   ]
  },
  {
   "cell_type": "code",
   "execution_count": 106,
   "metadata": {},
   "outputs": [
    {
     "name": "stdout",
     "output_type": "stream",
     "text": [
      "False\n"
     ]
    }
   ],
   "source": [
    "print(\"Da\" > \"D\")"
   ]
  },
  {
   "cell_type": "code",
   "execution_count": 109,
   "metadata": {},
   "outputs": [
    {
     "name": "stdout",
     "output_type": "stream",
     "text": [
      "['mail', 'rmail', 'r']\n"
     ]
    }
   ],
   "source": [
    "string=\"mailermailer\"\n",
    "print(string.split('e',4))"
   ]
  },
  {
   "cell_type": "code",
   "execution_count": 116,
   "metadata": {},
   "outputs": [
    {
     "name": "stdout",
     "output_type": "stream",
     "text": [
      "@\n"
     ]
    }
   ],
   "source": [
    "print(\"pytho@n\".join('@'))"
   ]
  },
  {
   "cell_type": "code",
   "execution_count": 127,
   "metadata": {},
   "outputs": [
    {
     "name": "stdout",
     "output_type": "stream",
     "text": [
      "fox\n",
      "quick\n",
      "word\n",
      "own foxiword!\n",
      "ord!\n"
     ]
    }
   ],
   "source": [
    "str1 = \"quick brown foxiword!\"\n",
    "print(str1[12:15])\n",
    "print(str1[:5])\n",
    "print(str1[-5:-1])\n",
    "print( str1[8:110])\n",
    "print(str1[-4:])"
   ]
  },
  {
   "cell_type": "code",
   "execution_count": 131,
   "metadata": {},
   "outputs": [
    {
     "name": "stdout",
     "output_type": "stream",
     "text": [
      "array('i', [1, 2, 3, 1, 4, 7, 9, 12])\n",
      "3\n"
     ]
    }
   ],
   "source": [
    "from array import array\n",
    "arr = array('i', [1, 2, 3, 1, 4, 7, 9, 12])\n",
    "print(arr)\n",
    "print(arr[1:4][1])"
   ]
  },
  {
   "cell_type": "markdown",
   "metadata": {},
   "source": [
    "Given the following line of codes in order to find the index of the first occurrence of a duplicate element, at which index will the for loop break?"
   ]
  },
  {
   "cell_type": "code",
   "execution_count": 133,
   "metadata": {},
   "outputs": [
    {
     "name": "stdout",
     "output_type": "stream",
     "text": [
      "3\n"
     ]
    }
   ],
   "source": [
    "from array import array\n",
    "arr= array(\"i\",[2,1,3,4,7,6,4,6,9])\n",
    "for i in range(len(arr)+1):\n",
    "  if arr[i] in arr[i+1:]:\n",
    "    print(i)\n",
    "    break\n"
   ]
  },
  {
   "cell_type": "markdown",
   "metadata": {},
   "source": [
    "Address of A[I][J] = B + W * ((I – LR) * N + (J – LC))\n",
    "\n",
    "\n",
    "I = Row Subset of an element whose address to be found,\n",
    "J = Column Subset of an element whose address to be found,\n",
    "B = Base address,\n",
    "W = Storage size of one element store in an array(in byte),\n",
    "LR = Lower Limit of row/start row index of the matrix(If not given assume it as zero),\n",
    "LC = Lower Limit of column/start column index of the matrix(If not given assume it as zero),\n",
    "N = Number of column given in the matrix."
   ]
  },
  {
   "cell_type": "code",
   "execution_count": 135,
   "metadata": {},
   "outputs": [
    {
     "name": "stdout",
     "output_type": "stream",
     "text": [
      "[1, 2, 3, 4, 5, 5, 6, 7, 8, 9, 0]\n"
     ]
    }
   ],
   "source": [
    "\n",
    "\n",
    "my_list=[1,2,3,[4,5],[[5,6],7],[8,9,0]]\n",
    "\n",
    "def flattener(lst):\n",
    "    result=[]\n",
    "    while lst:\n",
    "        item=lst.pop()\n",
    "        if type(item)==list:\n",
    "            lst.extend(item)\n",
    "        else:\n",
    "            result.append(item)\n",
    "    return result[::-1]\n",
    "\n",
    "print(flattener(my_list))  "
   ]
  },
  {
   "cell_type": "markdown",
   "metadata": {},
   "source": [
    "Sort a list of tuples based on third element in each tuple\n",
    "\n",
    "list_ = [(34, 21, 56), (24, 12, 31), (42, 34, 42), (27, 11, 32)] \n",
    "sort list should be [(24, 12, 31),(27, 11, 32),(42, 34, 42),(34, 21, 56)]\n",
    "\n",
    "print(sorted(list_,key=list_[2]))"
   ]
  },
  {
   "cell_type": "code",
   "execution_count": 138,
   "metadata": {},
   "outputs": [
    {
     "name": "stdout",
     "output_type": "stream",
     "text": [
      "[(27, 11, 32), (24, 12, 31), (34, 21, 56), (42, 34, 42)]\n"
     ]
    }
   ],
   "source": [
    "list_ = [(34, 21, 56), (24, 12, 31), (42, 34, 42), (27, 11, 32)] \n",
    "def middle(n):  \n",
    "    return n[1]\n",
    "\n",
    "print(sorted(list_,key=middle))"
   ]
  },
  {
   "cell_type": "code",
   "execution_count": 139,
   "metadata": {},
   "outputs": [
    {
     "name": "stdout",
     "output_type": "stream",
     "text": [
      "[(34, 21, 56), (42, 34, 42), (27, 11, 32), (24, 12, 31)]\n"
     ]
    }
   ],
   "source": [
    "#with lambda function \n",
    "#and with descending order\n",
    "\n",
    "list_ = [(34, 21, 56), (24, 12, 31), (42, 34, 42), (27, 11, 32)] \n",
    "def middle(n):  \n",
    "    return n[1]\n",
    "\n",
    "print(sorted(list_,key=lambda x:x[2] , reverse=True))"
   ]
  },
  {
   "cell_type": "code",
   "execution_count": 140,
   "metadata": {},
   "outputs": [
    {
     "ename": "NameError",
     "evalue": "name 'cout' is not defined",
     "output_type": "error",
     "traceback": [
      "\u001b[1;31m---------------------------------------------------------------------------\u001b[0m",
      "\u001b[1;31mNameError\u001b[0m                                 Traceback (most recent call last)",
      "Cell \u001b[1;32mIn[140], line 1\u001b[0m\n\u001b[1;32m----> 1\u001b[0m cout \u001b[39m<<\u001b[39m \u001b[39m\"\u001b[39m\u001b[39mHello world!\u001b[39m\u001b[39m\"\u001b[39m\n",
      "\u001b[1;31mNameError\u001b[0m: name 'cout' is not defined"
     ]
    }
   ],
   "source": [
    "cout << \"Hello world!\""
   ]
  },
  {
   "cell_type": "code",
   "execution_count": 88,
   "metadata": {},
   "outputs": [
    {
     "ename": "TypeError",
     "evalue": "'int' object is not iterable",
     "output_type": "error",
     "traceback": [
      "\u001b[1;31m---------------------------------------------------------------------------\u001b[0m",
      "\u001b[1;31mTypeError\u001b[0m                                 Traceback (most recent call last)",
      "Cell \u001b[1;32mIn[88], line 10\u001b[0m\n\u001b[0;32m      8\u001b[0m my_list \u001b[39m=\u001b[39m [[\u001b[39m1\u001b[39m], [\u001b[39m2\u001b[39m, \u001b[39m3\u001b[39m], [\u001b[39m4\u001b[39m, \u001b[39m5\u001b[39m, \u001b[39m6\u001b[39m, \u001b[39m7\u001b[39m]]\n\u001b[0;32m      9\u001b[0m my_list\u001b[39m=\u001b[39m[\u001b[39m1\u001b[39m,\u001b[39m2\u001b[39m,\u001b[39m3\u001b[39m,[\u001b[39m4\u001b[39m,\u001b[39m5\u001b[39m],[[[[\u001b[39m5\u001b[39m,\u001b[39m6\u001b[39m,\u001b[39m7\u001b[39m],[\u001b[39m8\u001b[39m,\u001b[39m9\u001b[39m,\u001b[39m0\u001b[39m]]]]] \n\u001b[1;32m---> 10\u001b[0m flat_list \u001b[39m=\u001b[39m \u001b[39mlist\u001b[39;49m(itertools\u001b[39m.\u001b[39;49mchain(\u001b[39m*\u001b[39;49mmy_list))\n\u001b[0;32m     11\u001b[0m \u001b[39mprint\u001b[39m(reduce(\u001b[39mlambda\u001b[39;00m x, y: x\u001b[39m+\u001b[39my, my_list))\n",
      "\u001b[1;31mTypeError\u001b[0m: 'int' object is not iterable"
     ]
    }
   ],
   "source": [
    "# lst=[1,2,3]\n",
    "# flat=[item for sublist in lst for item in sublist]\n",
    "# print(flat)\n",
    "\n",
    "import itertools\n",
    "\n",
    "\n",
    "my_list = [[1], [2, 3], [4, 5, 6, 7]]\n",
    "my_list=[1,2,3,[4,5],[[[[5,6,7],[8,9,0]]]]] \n",
    "flat_list = list(itertools.chain(*my_list))\n",
    "print(reduce(lambda x, y: x+y, my_list))\n",
    "\n",
    "    \n",
    "    \n"
   ]
  }
 ],
 "metadata": {
  "kernelspec": {
   "display_name": "Python 3",
   "language": "python",
   "name": "python3"
  },
  "language_info": {
   "codemirror_mode": {
    "name": "ipython",
    "version": 3
   },
   "file_extension": ".py",
   "mimetype": "text/x-python",
   "name": "python",
   "nbconvert_exporter": "python",
   "pygments_lexer": "ipython3",
   "version": "3.11.4"
  },
  "orig_nbformat": 4
 },
 "nbformat": 4,
 "nbformat_minor": 2
}
