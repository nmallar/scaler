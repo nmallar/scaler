{
 "cells": [
  {
   "cell_type": "markdown",
   "metadata": {},
   "source": [
    "convert string to lowercase without using built in functions"
   ]
  },
  {
   "cell_type": "code",
   "execution_count": 27,
   "metadata": {},
   "outputs": [
    {
     "name": "stdout",
     "output_type": "stream",
     "text": [
      "mailar434\n"
     ]
    }
   ],
   "source": [
    "str=input(\"Enter a string input : \")\n",
    "str2=\"\"\n",
    "for char in str:\n",
    "    \n",
    "    if ord(char)>=65 and ord(char)<=90:\n",
    "        str2+=chr(ord(char)+32)\n",
    "    else:\n",
    "        str2+=char\n",
    "        \n",
    "print(str2)"
   ]
  },
  {
   "cell_type": "markdown",
   "metadata": {},
   "source": [
    "Merge two dictionaries \n",
    "d1= {\"a\":1,\"b\":2}\n",
    "d2={\"b\":3, \"c\":4}\n",
    "result={\"a\":1,\"b\":3,\"c\":4}"
   ]
  },
  {
   "cell_type": "code",
   "execution_count": 33,
   "metadata": {},
   "outputs": [
    {
     "name": "stdout",
     "output_type": "stream",
     "text": [
      "{'a': 1, 'b': 2}\n",
      "{'b': 3, 'c': 4}\n",
      "{'a': 1, 'b': 3, 'c': 4}\n",
      "{'a': 1, 'b': 3, 'c': 4}\n",
      "{'a': 1, 'b': 3, 'c': 4}\n"
     ]
    }
   ],
   "source": [
    "d1= {\"a\":1,\"b\":2}\n",
    "d2={\"b\":3, \"c\":4}\n",
    "print(d1)\n",
    "print(d2)\n",
    "result={}\n",
    "result=d1 | d2\n",
    "\n",
    "\n",
    "\n",
    "\n",
    "\n"
   ]
  },
  {
   "cell_type": "code",
   "execution_count": 37,
   "metadata": {},
   "outputs": [
    {
     "name": "stdout",
     "output_type": "stream",
     "text": [
      "{'a': 1, 'b': 3, 'c': 4}\n"
     ]
    }
   ],
   "source": [
    "print(d1|d2)"
   ]
  },
  {
   "cell_type": "code",
   "execution_count": 36,
   "metadata": {},
   "outputs": [
    {
     "name": "stdout",
     "output_type": "stream",
     "text": [
      "{'a': 1, 'b': 3, 'c': 4}\n"
     ]
    }
   ],
   "source": [
    "d3={**d1, **d2}\n",
    "print(d3)"
   ]
  },
  {
   "cell_type": "code",
   "execution_count": 38,
   "metadata": {},
   "outputs": [
    {
     "name": "stdout",
     "output_type": "stream",
     "text": [
      "{'a': 1, 'b': 3, 'c': 4}\n"
     ]
    }
   ],
   "source": [
    "d1.update(d2)\n",
    "print(d1)"
   ]
  },
  {
   "cell_type": "markdown",
   "metadata": {},
   "source": [
    "Output of the code?\n",
    "a=-(100%30) // 3"
   ]
  },
  {
   "cell_type": "code",
   "execution_count": 39,
   "metadata": {},
   "outputs": [
    {
     "name": "stdout",
     "output_type": "stream",
     "text": [
      "-4\n"
     ]
    }
   ],
   "source": [
    "a=-(100%30) // 3\n",
    "print(a)"
   ]
  },
  {
   "cell_type": "markdown",
   "metadata": {},
   "source": [
    "Is this correct ?\n",
    "def foo(a,b=6,c,d):\n",
    "    return a+b+c+d\n",
    "Answer:"
   ]
  },
  {
   "cell_type": "code",
   "execution_count": 40,
   "metadata": {},
   "outputs": [
    {
     "ename": "SyntaxError",
     "evalue": "non-default argument follows default argument (813909170.py, line 1)",
     "output_type": "error",
     "traceback": [
      "\u001b[1;36m  Cell \u001b[1;32mIn[40], line 1\u001b[1;36m\u001b[0m\n\u001b[1;33m    def foo(a,b=6,c,d):\u001b[0m\n\u001b[1;37m                  ^\u001b[0m\n\u001b[1;31mSyntaxError\u001b[0m\u001b[1;31m:\u001b[0m non-default argument follows default argument\n"
     ]
    }
   ],
   "source": [
    "def foo(a,b=6,c,d):\n",
    "    return a+b+c+d"
   ]
  },
  {
   "cell_type": "code",
   "execution_count": 41,
   "metadata": {},
   "outputs": [],
   "source": [
    "def foo(a,b=6,c=0,d=0):\n",
    "    return a+b+c+d"
   ]
  },
  {
   "cell_type": "code",
   "execution_count": 42,
   "metadata": {},
   "outputs": [],
   "source": [
    "def foo(a,c,d,b=6):\n",
    "    return a+b+c+d"
   ]
  },
  {
   "cell_type": "markdown",
   "metadata": {},
   "source": [
    "take a string as input and print the number of unique characters present in that string\n",
    "Eg abccdd - 4"
   ]
  },
  {
   "cell_type": "code",
   "execution_count": 45,
   "metadata": {},
   "outputs": [
    {
     "name": "stdout",
     "output_type": "stream",
     "text": [
      "1\n"
     ]
    }
   ],
   "source": [
    "string=input(\"Enter the input string \")\n",
    "\n",
    "hashset=set(string)\n",
    "print(len(hashset))"
   ]
  },
  {
   "cell_type": "markdown",
   "metadata": {},
   "source": [
    "Given a string input, ascertain wheather the string contains a complete binary number or not\n",
    "Eg. \"00001100101010ab\" is not a binary number\n",
    "     \"0010101011110101011\" is a binary number"
   ]
  },
  {
   "cell_type": "code",
   "execution_count": 59,
   "metadata": {},
   "outputs": [
    {
     "name": "stdout",
     "output_type": "stream",
     "text": [
      "Binary\n"
     ]
    }
   ],
   "source": [
    "string=input()\n",
    "\n",
    "if all(str=='1' or str =='0' for str in string):\n",
    "    print(\"Binary\")\n",
    "else:\n",
    "    print(\"Not a binary\")"
   ]
  },
  {
   "cell_type": "code",
   "execution_count": 58,
   "metadata": {},
   "outputs": [
    {
     "data": {
      "text/plain": [
       "False"
      ]
     },
     "execution_count": 58,
     "metadata": {},
     "output_type": "execute_result"
    }
   ],
   "source": [
    "def check_binary(string):\n",
    "    set_chars=set(string)\n",
    "    if len(set_chars) not in [1,2]:\n",
    "        return False\n",
    "    if set_chars<= {'0','1'}:\n",
    "        return True\n",
    "    else:\n",
    "        return False \n",
    "\n",
    "check_binary(\"000000000111111111\")\n",
    "check_binary(\"aassa0100100\")\n",
    "check_binary(\"\")\n",
    "        "
   ]
  },
  {
   "cell_type": "code",
   "execution_count": null,
   "metadata": {},
   "outputs": [],
   "source": []
  },
  {
   "cell_type": "code",
   "execution_count": 52,
   "metadata": {},
   "outputs": [
    {
     "name": "stdout",
     "output_type": "stream",
     "text": [
      "True\n"
     ]
    }
   ],
   "source": [
    "set1={0,1}\n",
    "set2={1,0}\n",
    "print({0,1}=={1,0})"
   ]
  },
  {
   "cell_type": "markdown",
   "metadata": {},
   "source": [
    "Take a string as input and\n",
    "Create a dictionary containing key value pair for each unique character with value being its number of occurence\n",
    "input=\"abcdda\"\n",
    "output ={a:2,b:1,c:1,d:2}"
   ]
  },
  {
   "cell_type": "code",
   "execution_count": 62,
   "metadata": {},
   "outputs": [
    {
     "name": "stdout",
     "output_type": "stream",
     "text": [
      "{'r': 2, 's': 4, 't': 3}\n"
     ]
    }
   ],
   "source": [
    "#string=input()\n",
    "string=\"rrssssttt\"\n",
    "dict={}\n",
    "for char in string:\n",
    "    dict[char]=dict.get(char,0)+1\n",
    "print(dict)"
   ]
  },
  {
   "cell_type": "code",
   "execution_count": 61,
   "metadata": {},
   "outputs": [
    {
     "name": "stdout",
     "output_type": "stream",
     "text": [
      "{'r': 2, 's': 4, 't': 3}\n"
     ]
    }
   ],
   "source": [
    "string=\"rrssssttt\"\n",
    "result={}\n",
    "for char in set(string):\n",
    "    result[char]=string.count(char)\n",
    "print(result)"
   ]
  },
  {
   "cell_type": "markdown",
   "metadata": {},
   "source": [
    "print multiplication table of all numbers from 1 to N and take N as input.\n",
    "Try single line logic"
   ]
  },
  {
   "cell_type": "code",
   "execution_count": 64,
   "metadata": {},
   "outputs": [
    {
     "name": "stdout",
     "output_type": "stream",
     "text": [
      "1 * 1=1\n",
      "1 * 2=2\n",
      "1 * 3=3\n",
      "1 * 4=4\n",
      "1 * 5=5\n",
      "1 * 6=6\n",
      "1 * 7=7\n",
      "1 * 8=8\n",
      "1 * 9=9\n",
      "2 * 1=2\n",
      "2 * 2=4\n",
      "2 * 3=6\n",
      "2 * 4=8\n",
      "2 * 5=10\n",
      "2 * 6=12\n",
      "2 * 7=14\n",
      "2 * 8=16\n",
      "2 * 9=18\n",
      "3 * 1=3\n",
      "3 * 2=6\n",
      "3 * 3=9\n",
      "3 * 4=12\n",
      "3 * 5=15\n",
      "3 * 6=18\n",
      "3 * 7=21\n",
      "3 * 8=24\n",
      "3 * 9=27\n",
      "4 * 1=4\n",
      "4 * 2=8\n",
      "4 * 3=12\n",
      "4 * 4=16\n",
      "4 * 5=20\n",
      "4 * 6=24\n",
      "4 * 7=28\n",
      "4 * 8=32\n",
      "4 * 9=36\n"
     ]
    }
   ],
   "source": [
    "N=int(input())\n",
    "for i in range(1,N):\n",
    "    for j in range(1,10):\n",
    "        print(f\"{i} * {j}={i*j}\") "
   ]
  },
  {
   "cell_type": "code",
   "execution_count": 69,
   "metadata": {},
   "outputs": [
    {
     "data": {
      "text/plain": [
       "[[1, 2, 3, 4, 5, 6, 7, 8, 9, 10],\n",
       " [2, 4, 6, 8, 10, 12, 14, 16, 18, 20],\n",
       " [3, 6, 9, 12, 15, 18, 21, 24, 27, 30],\n",
       " [4, 8, 12, 16, 20, 24, 28, 32, 36, 40],\n",
       " [5, 10, 15, 20, 25, 30, 35, 40, 45, 50]]"
      ]
     },
     "execution_count": 69,
     "metadata": {},
     "output_type": "execute_result"
    }
   ],
   "source": [
    "N=int(input())\n",
    "[[i*j for j in range(1,11)] for i in range(1,N+1)]"
   ]
  },
  {
   "cell_type": "code",
   "execution_count": 141,
   "metadata": {},
   "outputs": [
    {
     "name": "stdout",
     "output_type": "stream",
     "text": [
      "3\n"
     ]
    }
   ],
   "source": [
    "import sys\n",
    "\n",
    "a=[]\n",
    "b=a\n",
    "print(sys.getrefcount(a))"
   ]
  },
  {
   "cell_type": "markdown",
   "metadata": {},
   "source": [
    "write a list flattener function\n",
    "input [1,2,3,[4,5],[[[[5,6,7],[8,9,0]]]]]\n",
    "output [1,2,3,4,5]"
   ]
  },
  {
   "cell_type": "code",
   "execution_count": 84,
   "metadata": {},
   "outputs": [
    {
     "name": "stdout",
     "output_type": "stream",
     "text": [
      "[1, [2, 3], 4, 5, 6, 7]\n"
     ]
    }
   ],
   "source": [
    "inputList=[1,2,3,[4,5],[[[[5,6,7],[8,9,0]]]]] \n",
    "\n",
    "inputList=[[1], [2, 3], [4, 5, 6, 7]]\n",
    "flatlist=sum(inputList,[]) # works for only one level depth\n",
    "print(flatlist)"
   ]
  },
  {
   "cell_type": "code",
   "execution_count": 92,
   "metadata": {},
   "outputs": [
    {
     "ename": "TypeError",
     "evalue": "'int' object is not iterable",
     "output_type": "error",
     "traceback": [
      "\u001b[1;31m---------------------------------------------------------------------------\u001b[0m",
      "\u001b[1;31mTypeError\u001b[0m                                 Traceback (most recent call last)",
      "Cell \u001b[1;32mIn[92], line 6\u001b[0m\n\u001b[0;32m      4\u001b[0m result\u001b[39m=\u001b[39m[]\n\u001b[0;32m      5\u001b[0m \u001b[39mfor\u001b[39;00m i \u001b[39min\u001b[39;00m inputList:\n\u001b[1;32m----> 6\u001b[0m     result\u001b[39m.\u001b[39;49mextend(i)\n\u001b[0;32m      7\u001b[0m \u001b[39mprint\u001b[39m(result)\n",
      "\u001b[1;31mTypeError\u001b[0m: 'int' object is not iterable"
     ]
    }
   ],
   "source": [
    "inputList=[1,2,3,[4,5],[[[[5,6,7],[8,9,0]]]]] \n",
    "#inputList= [[11, 22, 33, 44], [55, 66, 77], [88, 99, 100]]\n",
    "#flatList=[element for innerList in inputList for element in innerList]\n",
    "result=[]\n",
    "for i in inputList:\n",
    "    result.extend(i)\n",
    "print(result)"
   ]
  },
  {
   "cell_type": "code",
   "execution_count": 93,
   "metadata": {},
   "outputs": [
    {
     "name": "stdout",
     "output_type": "stream",
     "text": [
      "[1, 2, 3, 4, 5, [[[5, 6, 7], [8, 9, 0]]]]\n"
     ]
    }
   ],
   "source": [
    "def flat(lis):\n",
    "    flatList = []\n",
    "    # Iterate with outer list\n",
    "    for element in lis:\n",
    "        if type(element) is list:\n",
    "            # Check if type is list than iterate through the sublist\n",
    "            for item in element:\n",
    "                flatList.append(item)\n",
    "        else:\n",
    "            flatList.append(element)\n",
    "    return flatList\n",
    "\n",
    "inputList=[1,2,3,[4,5],[[[[5,6,7],[8,9,0]]]]] \n",
    "\n",
    "print(flat(inputList))\n"
   ]
  },
  {
   "cell_type": "code",
   "execution_count": 95,
   "metadata": {},
   "outputs": [
    {
     "name": "stdout",
     "output_type": "stream",
     "text": [
      "[1, 2, 3, 4, 5, 5, 6, 7, 8, 9, 0]\n"
     ]
    }
   ],
   "source": [
    "def reemovNestings(l,output):\n",
    "    for i in l:\n",
    "        if type(i) == list:\n",
    "            reemovNestings(i,output)\n",
    "        else:\n",
    "            output.append(i)\n",
    "inputList=[1,2,3,[4,5],[[[[5,6,7],[8,9,0]]]]] \n",
    "output=[]\n",
    "reemovNestings(inputList,output)\n",
    "print(output) "
   ]
  },
  {
   "cell_type": "code",
   "execution_count": 96,
   "metadata": {},
   "outputs": [
    {
     "name": "stdout",
     "output_type": "stream",
     "text": [
      "False\n"
     ]
    }
   ],
   "source": [
    "s = \"My PO Box number is 310\"\n",
    "print(s.isspace())"
   ]
  },
  {
   "cell_type": "code",
   "execution_count": 100,
   "metadata": {},
   "outputs": [
    {
     "name": "stdout",
     "output_type": "stream",
     "text": [
      "123456\n"
     ]
    }
   ],
   "source": [
    "x=\"12345\"+'6'\n",
    "print(x)"
   ]
  },
  {
   "cell_type": "code",
   "execution_count": 102,
   "metadata": {},
   "outputs": [
    {
     "name": "stdout",
     "output_type": "stream",
     "text": [
      "False False\n"
     ]
    }
   ],
   "source": [
    "print(\"Data\" > \"Dtaa\", \"Science\" < \"Scien\")"
   ]
  },
  {
   "cell_type": "code",
   "execution_count": 106,
   "metadata": {},
   "outputs": [
    {
     "name": "stdout",
     "output_type": "stream",
     "text": [
      "False\n"
     ]
    }
   ],
   "source": [
    "print(\"Da\" > \"D\")"
   ]
  },
  {
   "cell_type": "code",
   "execution_count": 109,
   "metadata": {},
   "outputs": [
    {
     "name": "stdout",
     "output_type": "stream",
     "text": [
      "['mail', 'rmail', 'r']\n"
     ]
    }
   ],
   "source": [
    "string=\"mailermailer\"\n",
    "print(string.split('e',4))"
   ]
  },
  {
   "cell_type": "code",
   "execution_count": 116,
   "metadata": {},
   "outputs": [
    {
     "name": "stdout",
     "output_type": "stream",
     "text": [
      "@\n"
     ]
    }
   ],
   "source": [
    "print(\"pytho@n\".join('@'))"
   ]
  },
  {
   "cell_type": "code",
   "execution_count": 127,
   "metadata": {},
   "outputs": [
    {
     "name": "stdout",
     "output_type": "stream",
     "text": [
      "fox\n",
      "quick\n",
      "word\n",
      "own foxiword!\n",
      "ord!\n"
     ]
    }
   ],
   "source": [
    "str1 = \"quick brown foxiword!\"\n",
    "print(str1[12:15])\n",
    "print(str1[:5])\n",
    "print(str1[-5:-1])\n",
    "print( str1[8:110])\n",
    "print(str1[-4:])"
   ]
  },
  {
   "cell_type": "code",
   "execution_count": 131,
   "metadata": {},
   "outputs": [
    {
     "name": "stdout",
     "output_type": "stream",
     "text": [
      "array('i', [1, 2, 3, 1, 4, 7, 9, 12])\n",
      "3\n"
     ]
    }
   ],
   "source": [
    "from array import array\n",
    "arr = array('i', [1, 2, 3, 1, 4, 7, 9, 12])\n",
    "print(arr)\n",
    "print(arr[1:4][1])"
   ]
  },
  {
   "cell_type": "markdown",
   "metadata": {},
   "source": [
    "Given the following line of codes in order to find the index of the first occurrence of a duplicate element, at which index will the for loop break?"
   ]
  },
  {
   "cell_type": "code",
   "execution_count": 133,
   "metadata": {},
   "outputs": [
    {
     "name": "stdout",
     "output_type": "stream",
     "text": [
      "3\n"
     ]
    }
   ],
   "source": [
    "from array import array\n",
    "arr= array(\"i\",[2,1,3,4,7,6,4,6,9])\n",
    "for i in range(len(arr)+1):\n",
    "  if arr[i] in arr[i+1:]:\n",
    "    print(i)\n",
    "    break\n"
   ]
  },
  {
   "cell_type": "markdown",
   "metadata": {},
   "source": [
    "Address of A[I][J] = B + W * ((I – LR) * N + (J – LC))\n",
    "\n",
    "\n",
    "I = Row Subset of an element whose address to be found,\n",
    "J = Column Subset of an element whose address to be found,\n",
    "B = Base address,\n",
    "W = Storage size of one element store in an array(in byte),\n",
    "LR = Lower Limit of row/start row index of the matrix(If not given assume it as zero),\n",
    "LC = Lower Limit of column/start column index of the matrix(If not given assume it as zero),\n",
    "N = Number of column given in the matrix."
   ]
  },
  {
   "cell_type": "code",
   "execution_count": 135,
   "metadata": {},
   "outputs": [
    {
     "name": "stdout",
     "output_type": "stream",
     "text": [
      "[1, 2, 3, 4, 5, 5, 6, 7, 8, 9, 0]\n"
     ]
    }
   ],
   "source": [
    "\n",
    "\n",
    "my_list=[1,2,3,[4,5],[[5,6],7],[8,9,0]]\n",
    "\n",
    "def flattener(lst):\n",
    "    result=[]\n",
    "    while lst:\n",
    "        item=lst.pop()\n",
    "        if type(item)==list:\n",
    "            lst.extend(item)\n",
    "        else:\n",
    "            result.append(item)\n",
    "    return result[::-1]\n",
    "\n",
    "print(flattener(my_list))  "
   ]
  },
  {
   "cell_type": "markdown",
   "metadata": {},
   "source": [
    "Sort a list of tuples based on third element in each tuple\n",
    "\n",
    "list_ = [(34, 21, 56), (24, 12, 31), (42, 34, 42), (27, 11, 32)] \n",
    "sort list should be [(24, 12, 31),(27, 11, 32),(42, 34, 42),(34, 21, 56)]\n",
    "\n",
    "print(sorted(list_,key=list_[2]))"
   ]
  },
  {
   "cell_type": "code",
   "execution_count": 138,
   "metadata": {},
   "outputs": [
    {
     "name": "stdout",
     "output_type": "stream",
     "text": [
      "[(27, 11, 32), (24, 12, 31), (34, 21, 56), (42, 34, 42)]\n"
     ]
    }
   ],
   "source": [
    "list_ = [(34, 21, 56), (24, 12, 31), (42, 34, 42), (27, 11, 32)] \n",
    "def middle(n):  \n",
    "    return n[1]\n",
    "\n",
    "print(sorted(list_,key=middle))"
   ]
  },
  {
   "cell_type": "code",
   "execution_count": 139,
   "metadata": {},
   "outputs": [
    {
     "name": "stdout",
     "output_type": "stream",
     "text": [
      "[(34, 21, 56), (42, 34, 42), (27, 11, 32), (24, 12, 31)]\n"
     ]
    }
   ],
   "source": [
    "#with lambda function \n",
    "#and with descending order\n",
    "\n",
    "list_ = [(34, 21, 56), (24, 12, 31), (42, 34, 42), (27, 11, 32)] \n",
    "def middle(n):  \n",
    "    return n[1]\n",
    "\n",
    "print(sorted(list_,key=lambda x:x[2] , reverse=True))"
   ]
  },
  {
   "cell_type": "code",
   "execution_count": 142,
   "metadata": {},
   "outputs": [
    {
     "data": {
      "text/plain": [
       "[[1, 2, 3, 4, 5, 6, 7, 8, 9, 10],\n",
       " [2, 4, 6, 8, 10, 12, 14, 16, 18, 20],\n",
       " [3, 6, 9, 12, 15, 18, 21, 24, 27, 30],\n",
       " [4, 8, 12, 16, 20, 24, 28, 32, 36, 40],\n",
       " [5, 10, 15, 20, 25, 30, 35, 40, 45, 50],\n",
       " [6, 12, 18, 24, 30, 36, 42, 48, 54, 60],\n",
       " [7, 14, 21, 28, 35, 42, 49, 56, 63, 70],\n",
       " [8, 16, 24, 32, 40, 48, 56, 64, 72, 80],\n",
       " [9, 18, 27, 36, 45, 54, 63, 72, 81, 90],\n",
       " [10, 20, 30, 40, 50, 60, 70, 80, 90, 100]]"
      ]
     },
     "execution_count": 142,
     "metadata": {},
     "output_type": "execute_result"
    }
   ],
   "source": [
    "#multiplication table of 1 to 10 in one line\n",
    "n=int(input())\n",
    "[ [ i*j for j in range(1,11)] for i in range(1,n+1)]"
   ]
  },
  {
   "cell_type": "code",
   "execution_count": 143,
   "metadata": {},
   "outputs": [
    {
     "name": "stdout",
     "output_type": "stream",
     "text": [
      "1 * 1 = 1\n",
      "1 * 2 = 2\n",
      "1 * 3 = 3\n",
      "1 * 4 = 4\n",
      "1 * 5 = 5\n",
      "1 * 6 = 6\n",
      "1 * 7 = 7\n",
      "1 * 8 = 8\n",
      "1 * 9 = 9\n",
      "1 * 10 = 10\n",
      "2 * 1 = 2\n",
      "2 * 2 = 4\n",
      "2 * 3 = 6\n",
      "2 * 4 = 8\n",
      "2 * 5 = 10\n",
      "2 * 6 = 12\n",
      "2 * 7 = 14\n",
      "2 * 8 = 16\n",
      "2 * 9 = 18\n",
      "2 * 10 = 20\n",
      "3 * 1 = 3\n",
      "3 * 2 = 6\n",
      "3 * 3 = 9\n",
      "3 * 4 = 12\n",
      "3 * 5 = 15\n",
      "3 * 6 = 18\n",
      "3 * 7 = 21\n",
      "3 * 8 = 24\n",
      "3 * 9 = 27\n",
      "3 * 10 = 30\n",
      "4 * 1 = 4\n",
      "4 * 2 = 8\n",
      "4 * 3 = 12\n",
      "4 * 4 = 16\n",
      "4 * 5 = 20\n",
      "4 * 6 = 24\n",
      "4 * 7 = 28\n",
      "4 * 8 = 32\n",
      "4 * 9 = 36\n",
      "4 * 10 = 40\n",
      "5 * 1 = 5\n",
      "5 * 2 = 10\n",
      "5 * 3 = 15\n",
      "5 * 4 = 20\n",
      "5 * 5 = 25\n",
      "5 * 6 = 30\n",
      "5 * 7 = 35\n",
      "5 * 8 = 40\n",
      "5 * 9 = 45\n",
      "5 * 10 = 50\n"
     ]
    }
   ],
   "source": [
    "#multiplication table brute force\n",
    "\n",
    "#print multiplication table of n numbers\n",
    "n=int(input())\n",
    "for i in range(1,n+1):\n",
    "  for j in range(1,11):\n",
    "    print(i,\"*\",j,\"=\",i*j)"
   ]
  },
  {
   "cell_type": "code",
   "execution_count": 148,
   "metadata": {},
   "outputs": [
    {
     "name": "stdout",
     "output_type": "stream",
     "text": [
      "10+1010+1010+1010+1010+10\n"
     ]
    }
   ],
   "source": [
    "print(\"10+10\"*5)"
   ]
  },
  {
   "cell_type": "code",
   "execution_count": 145,
   "metadata": {},
   "outputs": [
    {
     "name": "stdout",
     "output_type": "stream",
     "text": [
      "10+1010+1010+1010+1010+10\n"
     ]
    }
   ],
   "source": [
    "print(\"10+10\"*5)"
   ]
  },
  {
   "cell_type": "code",
   "execution_count": 146,
   "metadata": {},
   "outputs": [
    {
     "data": {
      "text/plain": [
       "float"
      ]
     },
     "execution_count": 146,
     "metadata": {},
     "output_type": "execute_result"
    }
   ],
   "source": [
    "type(3.5*6)"
   ]
  },
  {
   "cell_type": "code",
   "execution_count": null,
   "metadata": {},
   "outputs": [],
   "source": [
    "type(\"abs\")==str"
   ]
  },
  {
   "cell_type": "code",
   "execution_count": 149,
   "metadata": {},
   "outputs": [
    {
     "name": "stdout",
     "output_type": "stream",
     "text": [
      "<class 'float'>\n"
     ]
    }
   ],
   "source": [
    "print(type(3.7*8))"
   ]
  },
  {
   "cell_type": "code",
   "execution_count": null,
   "metadata": {},
   "outputs": [],
   "source": [
    "type(None)"
   ]
  },
  {
   "cell_type": "code",
   "execution_count": 150,
   "metadata": {},
   "outputs": [
    {
     "name": "stdout",
     "output_type": "stream",
     "text": [
      "<class 'NoneType'>\n"
     ]
    }
   ],
   "source": [
    "print(type(None))"
   ]
  },
  {
   "cell_type": "code",
   "execution_count": 151,
   "metadata": {},
   "outputs": [
    {
     "data": {
      "text/plain": [
       "False"
      ]
     },
     "execution_count": 151,
     "metadata": {},
     "output_type": "execute_result"
    }
   ],
   "source": [
    "type(None)==None"
   ]
  },
  {
   "cell_type": "code",
   "execution_count": 153,
   "metadata": {},
   "outputs": [
    {
     "data": {
      "text/plain": [
       "True"
      ]
     },
     "execution_count": 153,
     "metadata": {},
     "output_type": "execute_result"
    }
   ],
   "source": [
    "b=bool(input())\n",
    "b"
   ]
  },
  {
   "cell_type": "code",
   "execution_count": 154,
   "metadata": {},
   "outputs": [
    {
     "name": "stdout",
     "output_type": "stream",
     "text": [
      "True\n"
     ]
    }
   ],
   "source": [
    "print(bool(8))"
   ]
  },
  {
   "cell_type": "code",
   "execution_count": 155,
   "metadata": {},
   "outputs": [
    {
     "name": "stdout",
     "output_type": "stream",
     "text": [
      "False\n"
     ]
    }
   ],
   "source": [
    "print(bool(0))"
   ]
  },
  {
   "cell_type": "code",
   "execution_count": 156,
   "metadata": {},
   "outputs": [
    {
     "name": "stdout",
     "output_type": "stream",
     "text": [
      "False\n"
     ]
    }
   ],
   "source": [
    "print(bool(False))"
   ]
  },
  {
   "cell_type": "code",
   "execution_count": 157,
   "metadata": {},
   "outputs": [
    {
     "name": "stdout",
     "output_type": "stream",
     "text": [
      "2\n"
     ]
    }
   ],
   "source": [
    "print(5//2)\n"
   ]
  },
  {
   "cell_type": "code",
   "execution_count": 158,
   "metadata": {},
   "outputs": [
    {
     "ename": "NameError",
     "evalue": "name 'pint' is not defined",
     "output_type": "error",
     "traceback": [
      "\u001b[1;31m---------------------------------------------------------------------------\u001b[0m",
      "\u001b[1;31mNameError\u001b[0m                                 Traceback (most recent call last)",
      "Cell \u001b[1;32mIn[158], line 1\u001b[0m\n\u001b[1;32m----> 1\u001b[0m pint(\u001b[39m-\u001b[39m\u001b[39m5\u001b[39m\u001b[39m/\u001b[39m\u001b[39m/\u001b[39m\u001b[39m2\u001b[39m)\n",
      "\u001b[1;31mNameError\u001b[0m: name 'pint' is not defined"
     ]
    }
   ],
   "source": [
    "pint(-5//2)"
   ]
  },
  {
   "cell_type": "code",
   "execution_count": 159,
   "metadata": {},
   "outputs": [
    {
     "name": "stdout",
     "output_type": "stream",
     "text": [
      "-3\n"
     ]
    }
   ],
   "source": [
    "print(-5//2)"
   ]
  },
  {
   "cell_type": "code",
   "execution_count": 160,
   "metadata": {},
   "outputs": [
    {
     "name": "stdout",
     "output_type": "stream",
     "text": [
      "2\n"
     ]
    }
   ],
   "source": [
    "print(100%7)"
   ]
  },
  {
   "cell_type": "code",
   "execution_count": 161,
   "metadata": {},
   "outputs": [
    {
     "name": "stdout",
     "output_type": "stream",
     "text": [
      "5\n"
     ]
    }
   ],
   "source": [
    "print(-100%7)"
   ]
  },
  {
   "cell_type": "code",
   "execution_count": 162,
   "metadata": {},
   "outputs": [
    {
     "name": "stdout",
     "output_type": "stream",
     "text": [
      "55\n"
     ]
    }
   ],
   "source": [
    "print(55%56)"
   ]
  },
  {
   "cell_type": "code",
   "execution_count": 163,
   "metadata": {},
   "outputs": [
    {
     "name": "stdout",
     "output_type": "stream",
     "text": [
      "True\n"
     ]
    }
   ],
   "source": [
    "print(bool(\" \"))"
   ]
  },
  {
   "cell_type": "code",
   "execution_count": 164,
   "metadata": {},
   "outputs": [
    {
     "name": "stdout",
     "output_type": "stream",
     "text": [
      "False\n"
     ]
    }
   ],
   "source": [
    "print(\"1\"==1)"
   ]
  },
  {
   "cell_type": "code",
   "execution_count": 165,
   "metadata": {},
   "outputs": [
    {
     "name": "stdout",
     "output_type": "stream",
     "text": [
      "5.0\n"
     ]
    }
   ],
   "source": [
    "x=55/11\n",
    "print(x)"
   ]
  },
  {
   "cell_type": "code",
   "execution_count": 166,
   "metadata": {},
   "outputs": [
    {
     "name": "stdout",
     "output_type": "stream",
     "text": [
      "16\n"
     ]
    }
   ],
   "source": [
    "def square(x):\n",
    "  if isinstance(x,(int,float)):\n",
    "    print(x*x)\n",
    "  else:\n",
    "    print(\"Invalid input\")\n",
    "square(4)"
   ]
  },
  {
   "cell_type": "code",
   "execution_count": 167,
   "metadata": {},
   "outputs": [
    {
     "name": "stdout",
     "output_type": "stream",
     "text": [
      "11.559999999999999\n"
     ]
    }
   ],
   "source": [
    "square(3.4)"
   ]
  },
  {
   "cell_type": "code",
   "execution_count": 168,
   "metadata": {},
   "outputs": [
    {
     "name": "stdout",
     "output_type": "stream",
     "text": [
      "Invalid input\n"
     ]
    }
   ],
   "source": [
    "square(\"hi\")"
   ]
  },
  {
   "cell_type": "code",
   "execution_count": 169,
   "metadata": {},
   "outputs": [],
   "source": [
    "def print_date(day,month,year,style=0):\n",
    "  if style==0:\n",
    "    print(month,day,year,sep=\"\")\n",
    "  elif style==1:\n",
    "    print(day,month,year,sep=\"/\")\n",
    "  else:\n",
    "    print('Invalid style')"
   ]
  },
  {
   "cell_type": "code",
   "execution_count": 170,
   "metadata": {},
   "outputs": [
    {
     "name": "stdout",
     "output_type": "stream",
     "text": [
      "324\n"
     ]
    }
   ],
   "source": [
    "print_date(2,3,4)"
   ]
  },
  {
   "cell_type": "code",
   "execution_count": 171,
   "metadata": {},
   "outputs": [
    {
     "name": "stdout",
     "output_type": "stream",
     "text": [
      "2/3/4\n"
     ]
    }
   ],
   "source": [
    "print_date(2,3,4,1)"
   ]
  },
  {
   "cell_type": "code",
   "execution_count": 173,
   "metadata": {},
   "outputs": [],
   "source": [
    "l=[5,3,6,9,4,6]\n",
    "from functools import reduce\n",
    "avg=reduce(lambda x,y:x+y,l)/len(l)"
   ]
  },
  {
   "cell_type": "code",
   "execution_count": 174,
   "metadata": {},
   "outputs": [
    {
     "data": {
      "text/plain": [
       "5.5"
      ]
     },
     "execution_count": 174,
     "metadata": {},
     "output_type": "execute_result"
    }
   ],
   "source": [
    "avg"
   ]
  },
  {
   "cell_type": "code",
   "execution_count": 175,
   "metadata": {},
   "outputs": [
    {
     "name": "stdout",
     "output_type": "stream",
     "text": [
      "[1, 3]\n",
      "[1, 3, 7, 0, 6]\n"
     ]
    }
   ],
   "source": [
    "a=[7,0,6,1,3]\n",
    "b=a[3:]\n",
    "print(b)\n",
    "b.extend(a[0:3])\n",
    "print(b)"
   ]
  },
  {
   "cell_type": "code",
   "execution_count": 176,
   "metadata": {},
   "outputs": [
    {
     "name": "stdout",
     "output_type": "stream",
     "text": [
      "[1, 3, 7, 0, 6]\n"
     ]
    }
   ],
   "source": [
    "  #rotate array n times\n",
    "  a=[7,0,6,1,3]\n",
    "  b=a[3:]+a[0:3]\n",
    "  print(b)"
   ]
  },
  {
   "cell_type": "code",
   "execution_count": 177,
   "metadata": {},
   "outputs": [
    {
     "data": {
      "text/plain": [
       "[1, 3, 7, 0, 6]"
      ]
     },
     "execution_count": 177,
     "metadata": {},
     "output_type": "execute_result"
    }
   ],
   "source": [
    "a=[7,0,6,1,3]\n",
    "c=a[3:]+a[:3]\n",
    "c"
   ]
  },
  {
   "cell_type": "code",
   "execution_count": 179,
   "metadata": {},
   "outputs": [],
   "source": [
    "b=list(map(int,input().split()))"
   ]
  },
  {
   "cell_type": "code",
   "execution_count": 180,
   "metadata": {},
   "outputs": [
    {
     "data": {
      "text/plain": [
       "[1, 2, 3, 4, 5, 6]"
      ]
     },
     "execution_count": 180,
     "metadata": {},
     "output_type": "execute_result"
    }
   ],
   "source": [
    "b\n"
   ]
  },
  {
   "cell_type": "code",
   "execution_count": 181,
   "metadata": {},
   "outputs": [
    {
     "name": "stdout",
     "output_type": "stream",
     "text": [
      "[(34, 21, 56), (42, 34, 42), (27, 11, 32), (24, 12, 31)]\n"
     ]
    }
   ],
   "source": [
    "#with lambda function \n",
    "#and with descending order sort\n",
    "\n",
    "list_ = [(34, 21, 56), (24, 12, 31), (42, 34, 42), (27, 11, 32)] \n",
    "def middle(n):  \n",
    "    return n[1]\n",
    "\n",
    "print(sorted(list_,key=lambda x:x[2] , reverse=True))"
   ]
  },
  {
   "cell_type": "code",
   "execution_count": 182,
   "metadata": {},
   "outputs": [
    {
     "name": "stdout",
     "output_type": "stream",
     "text": [
      "[(27, 11, 32), (24, 12, 31), (34, 21, 56), (42, 34, 42)]\n"
     ]
    }
   ],
   "source": [
    "list_ = [(34, 21, 56), (24, 12, 31), (42, 34, 42), (27, 11, 32)] \n",
    "def middle(n):  \n",
    "    return n[1]\n",
    "\n",
    "print(sorted(list_,key=middle))"
   ]
  },
  {
   "cell_type": "code",
   "execution_count": 183,
   "metadata": {},
   "outputs": [
    {
     "name": "stdout",
     "output_type": "stream",
     "text": [
      "[1, 2, 3, 4, 5, 5, 6, 7, 8, 9, 0]\n"
     ]
    }
   ],
   "source": [
    "#flatten nested list\n",
    "my_list=[1,2,3,[4,5],[[5,6],7],[8,9,0]]\n",
    "\n",
    "def flattener(lst):\n",
    "    result=[]\n",
    "    while lst:\n",
    "        item=lst.pop()\n",
    "        if type(item)==list:\n",
    "            lst.extend(item)\n",
    "        else:\n",
    "            result.append(item)\n",
    "    return result[::-1]\n",
    "\n",
    "print(flattener(my_list))  "
   ]
  },
  {
   "cell_type": "code",
   "execution_count": 184,
   "metadata": {},
   "outputs": [
    {
     "name": "stdout",
     "output_type": "stream",
     "text": [
      "*\n",
      "* *\n",
      "* * *\n",
      "* * * *\n",
      "* * * * *\n"
     ]
    }
   ],
   "source": [
    "n=int(input(\"Enter number of lines\"))\n",
    "for i in range(n):\n",
    "  for j in range(0,i+1):\n",
    "      if j==i:\n",
    "        print(\"*\")\n",
    "      else:\n",
    "        print(\"*\",end=' ')"
   ]
  },
  {
   "cell_type": "code",
   "execution_count": 185,
   "metadata": {},
   "outputs": [
    {
     "name": "stdout",
     "output_type": "stream",
     "text": [
      "          *\n",
      "        * *\n",
      "      * * *\n",
      "    * * * *\n",
      "  * * * * *\n"
     ]
    }
   ],
   "source": [
    "n=int(input(\"Enter number of lines\"))\n",
    "for i in range(n):\n",
    "  for j in range(0,n-i):\n",
    "    print(\" \",end=' ')\n",
    "\n",
    "  for k in range(0,i+1):\n",
    "    if k==i:\n",
    "      print(\"*\")\n",
    "    else:\n",
    "      print(\"*\",end=' ')"
   ]
  },
  {
   "cell_type": "code",
   "execution_count": 186,
   "metadata": {},
   "outputs": [
    {
     "name": "stdout",
     "output_type": "stream",
     "text": [
      "[1, 2, 3]\n",
      "[1, 2, 3]\n"
     ]
    }
   ],
   "source": [
    "x=[1,2,3]\n",
    "y=x\n",
    "y.sort()\n",
    "print(x)\n",
    "print(y)\n"
   ]
  },
  {
   "cell_type": "code",
   "execution_count": 187,
   "metadata": {},
   "outputs": [
    {
     "name": "stdout",
     "output_type": "stream",
     "text": [
      "2118473371712\n",
      "2118473371712\n"
     ]
    }
   ],
   "source": [
    "print(id(x))\n",
    "print(id(y))"
   ]
  },
  {
   "cell_type": "code",
   "execution_count": 188,
   "metadata": {},
   "outputs": [
    {
     "name": "stdout",
     "output_type": "stream",
     "text": [
      "2118473373696\n",
      "2118473381120\n"
     ]
    }
   ],
   "source": [
    "a1=[8,5,9]\n",
    "b1=a1[::]\n",
    "b1.sort()\n",
    "print(id(a1))\n",
    "print(id(b1))"
   ]
  },
  {
   "cell_type": "code",
   "execution_count": 189,
   "metadata": {},
   "outputs": [
    {
     "name": "stdout",
     "output_type": "stream",
     "text": [
      "['a', 'b', 'c', 'd']\n",
      "['a', 'b', 'c', 'd', 'e']\n"
     ]
    }
   ],
   "source": [
    "players=['a','b','c','d']\n",
    "print(players)\n",
    "players+='e'\n",
    "print(players)"
   ]
  },
  {
   "cell_type": "code",
   "execution_count": 190,
   "metadata": {},
   "outputs": [
    {
     "ename": "TypeError",
     "evalue": "can only concatenate list (not \"str\") to list",
     "output_type": "error",
     "traceback": [
      "\u001b[1;31m---------------------------------------------------------------------------\u001b[0m",
      "\u001b[1;31mTypeError\u001b[0m                                 Traceback (most recent call last)",
      "Cell \u001b[1;32mIn[190], line 3\u001b[0m\n\u001b[0;32m      1\u001b[0m players\u001b[39m=\u001b[39m[\u001b[39m'\u001b[39m\u001b[39ma\u001b[39m\u001b[39m'\u001b[39m,\u001b[39m'\u001b[39m\u001b[39mb\u001b[39m\u001b[39m'\u001b[39m,\u001b[39m'\u001b[39m\u001b[39mc\u001b[39m\u001b[39m'\u001b[39m,\u001b[39m'\u001b[39m\u001b[39md\u001b[39m\u001b[39m'\u001b[39m]\n\u001b[0;32m      2\u001b[0m players\n\u001b[1;32m----> 3\u001b[0m players\u001b[39m=\u001b[39mplayers \u001b[39m+\u001b[39;49m \u001b[39m'\u001b[39;49m\u001b[39me\u001b[39;49m\u001b[39m'\u001b[39;49m\n\u001b[0;32m      4\u001b[0m players\n",
      "\u001b[1;31mTypeError\u001b[0m: can only concatenate list (not \"str\") to list"
     ]
    }
   ],
   "source": [
    "players=['a','b','c','d']\n",
    "players\n",
    "players=players + 'e'\n",
    "players"
   ]
  },
  {
   "cell_type": "code",
   "execution_count": 191,
   "metadata": {},
   "outputs": [
    {
     "data": {
      "text/plain": [
       "['A', 'B', 'C', 'D', 'E']"
      ]
     },
     "execution_count": 191,
     "metadata": {},
     "output_type": "execute_result"
    }
   ],
   "source": [
    "player=['A','B','C']\n",
    "player\n",
    "player.extend('DE')\n",
    "player"
   ]
  },
  {
   "cell_type": "code",
   "execution_count": 192,
   "metadata": {},
   "outputs": [
    {
     "name": "stdout",
     "output_type": "stream",
     "text": [
      "2118474648192\n",
      "[1, 2, 3, 5, 6]\n",
      "2118474647488\n"
     ]
    }
   ],
   "source": [
    "a=[1,2,3]\n",
    "print(id(a))\n",
    "a=a+[5,6]\n",
    "#create new list\n",
    "print(a)\n",
    "print(id(a))"
   ]
  },
  {
   "cell_type": "code",
   "execution_count": 193,
   "metadata": {},
   "outputs": [
    {
     "name": "stdout",
     "output_type": "stream",
     "text": [
      "2118474648192\n",
      "[1, 2, 3, 5, 6]\n",
      "2118474648192\n"
     ]
    }
   ],
   "source": [
    "a=[1,2,3]\n",
    "print(id(a))\n",
    "a+=[5,6]\n",
    "#modifies existing list\n",
    "print(a)\n",
    "print(id(a))"
   ]
  },
  {
   "cell_type": "code",
   "execution_count": 194,
   "metadata": {},
   "outputs": [
    {
     "name": "stdout",
     "output_type": "stream",
     "text": [
      "* \n",
      "* * \n",
      "* * * \n",
      "* * * * \n",
      "* * * * * \n"
     ]
    }
   ],
   "source": [
    "#pattern problems\n",
    "n=int(input())\n",
    "for i in range(1,n+1):\n",
    "  for j in range(i):\n",
    "    print(\"*\",end=' ')\n",
    "  print()"
   ]
  },
  {
   "cell_type": "code",
   "execution_count": 195,
   "metadata": {},
   "outputs": [
    {
     "name": "stdout",
     "output_type": "stream",
     "text": [
      "* * * * * \n",
      "* * * * \n",
      "* * * \n",
      "* * \n",
      "* \n"
     ]
    }
   ],
   "source": [
    "n=int(input())\n",
    "for i in range(n,0,-1):\n",
    "  for j in range(i):\n",
    "    print(\"*\",end=' ')\n",
    "  print()"
   ]
  },
  {
   "cell_type": "code",
   "execution_count": 196,
   "metadata": {},
   "outputs": [
    {
     "name": "stdout",
     "output_type": "stream",
     "text": [
      "* * * * * \n",
      "* * * * \n",
      "* * * \n",
      "* * \n",
      "* \n"
     ]
    }
   ],
   "source": [
    "n=int(input())\n",
    "for i in range(1,n+1):\n",
    "  for j in range(n-i+1):\n",
    "    print(\"*\",end=' ')\n",
    "  print()"
   ]
  },
  {
   "cell_type": "code",
   "execution_count": 197,
   "metadata": {},
   "outputs": [
    {
     "name": "stdout",
     "output_type": "stream",
     "text": [
      "*___*\n",
      "*___*\n",
      "*___*\n",
      "*___*\n",
      "*___*\n"
     ]
    }
   ],
   "source": [
    "n=int(input())\n",
    "for i in range(n):\n",
    "  for j in range(n):\n",
    "    if j==0:\n",
    "      print(\"*\",end='')\n",
    "    elif j<n-1:\n",
    "      print(\"_\",end='')\n",
    "    else:\n",
    "      print(\"*\")"
   ]
  },
  {
   "cell_type": "code",
   "execution_count": 198,
   "metadata": {},
   "outputs": [
    {
     "name": "stdout",
     "output_type": "stream",
     "text": [
      "*___*\n",
      "*___*\n",
      "*___*\n",
      "*___*\n",
      "*___*\n"
     ]
    }
   ],
   "source": [
    "n=int(input())\n",
    "for i in range(n):\n",
    "  print(\"*\",end='')\n",
    "  for j in range(n-2):\n",
    "    print(\"_\",end=\"\")\n",
    "  print(\"*\")"
   ]
  },
  {
   "cell_type": "code",
   "execution_count": 199,
   "metadata": {},
   "outputs": [
    {
     "name": "stdout",
     "output_type": "stream",
     "text": [
      "      *\n",
      "     **\n",
      "    ***\n",
      "   ****\n",
      "  *****\n"
     ]
    }
   ],
   "source": [
    "n=int(input())\n",
    "for i in range(n):\n",
    "  for j in range(n-i+1):\n",
    "    print(\" \",end='')\n",
    "  for k in range(i+1):\n",
    "    print(\"*\",end='')\n",
    "  print()\n",
    "  "
   ]
  },
  {
   "cell_type": "code",
   "execution_count": 200,
   "metadata": {},
   "outputs": [
    {
     "name": "stdout",
     "output_type": "stream",
     "text": [
      "     \n",
      "    *\n",
      "   ***\n",
      "  *****\n",
      " *******\n"
     ]
    }
   ],
   "source": [
    "n=int(input())\n",
    "for i in range(n):\n",
    "  for k in range(n-i):\n",
    "    print(\" \",end='')\n",
    "  for j in range((i*2)-1):\n",
    "    print(\"*\",end='')\n",
    "  print()"
   ]
  },
  {
   "cell_type": "code",
   "execution_count": 201,
   "metadata": {},
   "outputs": [
    {
     "name": "stdout",
     "output_type": "stream",
     "text": [
      "**********\n",
      "****__****\n",
      "***____***\n",
      "**______**\n",
      "*________*\n"
     ]
    }
   ],
   "source": [
    "n=int(input())\n",
    "for i in range(n):\n",
    "  for j in range(n-i):\n",
    "    print(\"*\",end='')\n",
    "  for k in range(2*i):\n",
    "    print(\"_\",end='')\n",
    "  for l in range(n-i):\n",
    "    print(\"*\",end='')\n",
    "  print()"
   ]
  },
  {
   "cell_type": "code",
   "execution_count": 202,
   "metadata": {},
   "outputs": [
    {
     "name": "stdout",
     "output_type": "stream",
     "text": [
      "*________*\n",
      "**______**\n",
      "***____***\n",
      "****__****\n",
      "**********\n"
     ]
    }
   ],
   "source": [
    "n=int(input())\n",
    "for i in range(n):\n",
    "  for j in range(i+1):\n",
    "    print(\"*\",end='')\n",
    "  for k in range(2*(n-i)-2):\n",
    "    print(\"_\",end='')\n",
    "  for l in range(i+1):\n",
    "    print(\"*\",end='')\n",
    "  print()"
   ]
  },
  {
   "cell_type": "code",
   "execution_count": 203,
   "metadata": {},
   "outputs": [
    {
     "name": "stdout",
     "output_type": "stream",
     "text": [
      "**********\n",
      "****__****\n",
      "***____***\n",
      "**______**\n",
      "*________*\n",
      "*________*\n",
      "**______**\n",
      "***____***\n",
      "****__****\n",
      "**********\n"
     ]
    }
   ],
   "source": [
    "#diamond\n",
    "n=int(input())\n",
    "for i in range(n):\n",
    "  for j in range(n-i):\n",
    "    print(\"*\",end='')\n",
    "  for k in range(2*i):\n",
    "    print(\"_\",end='')\n",
    "  for l in range(n-i):\n",
    "    print(\"*\",end='')\n",
    "  print()\n",
    "for i in range(n):\n",
    "  for j in range(i+1):\n",
    "    print(\"*\",end='')\n",
    "  for k in range(2*(n-i)-2):\n",
    "    print(\"_\",end='')\n",
    "  for l in range(i+1):\n",
    "    print(\"*\",end='')\n",
    "  print()"
   ]
  },
  {
   "cell_type": "code",
   "execution_count": 204,
   "metadata": {},
   "outputs": [
    {
     "name": "stdout",
     "output_type": "stream",
     "text": [
      "*****\n",
      "*__*\n",
      "\n",
      "*_*\n",
      "\n",
      "**\n",
      "\n",
      "*\n"
     ]
    }
   ],
   "source": [
    "#hollow triangle\n",
    "n=int(input())\n",
    "print(\"*\"*n)\n",
    "for i in range(1,n-1):\n",
    "  print(\"*\",end='')\n",
    "  for j in range(n-i-2):\n",
    "    print(\"_\",end='')\n",
    "  print(\"*\")\n",
    "  \n",
    "  print()\n",
    "print(\"*\")\n"
   ]
  },
  {
   "cell_type": "code",
   "execution_count": 210,
   "metadata": {},
   "outputs": [
    {
     "name": "stdout",
     "output_type": "stream",
     "text": [
      "time taken in seconds -  6.231635808944702\n"
     ]
    }
   ],
   "source": [
    "#GIL study\n",
    "#single thread\n",
    "import time\n",
    "#from threading import Thread\n",
    "COUNT=50000000\n",
    "\n",
    "def countdown(n):\n",
    "    while n>0:\n",
    "        n-=1\n",
    "    \n",
    "start=time.time()\n",
    "countdown(COUNT)\n",
    "end=time.time()\n",
    "    \n",
    "print('time taken in seconds - ', end-start) "
   ]
  },
  {
   "cell_type": "code",
   "execution_count": 211,
   "metadata": {},
   "outputs": [
    {
     "name": "stdout",
     "output_type": "stream",
     "text": [
      "Time taken is seconds- 6.269964218139648\n"
     ]
    }
   ],
   "source": [
    "#GIL: multi thread.py\n",
    "import time\n",
    "from threading import Thread\n",
    "COUNT =50000000\n",
    "\n",
    "def countdown(n):\n",
    "    while n>0:\n",
    "        n-=1\n",
    "    \n",
    "t1=Thread(target=countdown,args=(COUNT//2,))\n",
    "t2=Thread(target=countdown,args=(COUNT//2,))\n",
    "start=time.time()\n",
    "t1.start()\n",
    "t2.start()\n",
    "t1.join()\n",
    "t2.join()\n",
    "end=time.time()\n",
    "\n",
    "print('Time taken is seconds-' , end-start)\n"
   ]
  },
  {
   "cell_type": "code",
   "execution_count": 214,
   "metadata": {},
   "outputs": [
    {
     "name": "stdout",
     "output_type": "stream",
     "text": [
      "0.005\n"
     ]
    }
   ],
   "source": [
    "#system interval\n",
    "import sys\n",
    "print(sys.getswitchinterval())"
   ]
  },
  {
   "cell_type": "code",
   "execution_count": 215,
   "metadata": {},
   "outputs": [
    {
     "data": {
      "text/plain": [
       "[-5, -4, -3, -2, -1, 0, 1, 2, 3, 4]"
      ]
     },
     "execution_count": 215,
     "metadata": {},
     "output_type": "execute_result"
    }
   ],
   "source": [
    "list(range(-5,5))"
   ]
  },
  {
   "cell_type": "code",
   "execution_count": 216,
   "metadata": {},
   "outputs": [
    {
     "data": {
      "text/plain": [
       "[]"
      ]
     },
     "execution_count": 216,
     "metadata": {},
     "output_type": "execute_result"
    }
   ],
   "source": [
    "list(range(5,-5))"
   ]
  },
  {
   "cell_type": "code",
   "execution_count": 218,
   "metadata": {},
   "outputs": [
    {
     "data": {
      "text/plain": [
       "[5, 4, 3, 2, 1, 0, -1, -2, -3, -4]"
      ]
     },
     "execution_count": 218,
     "metadata": {},
     "output_type": "execute_result"
    }
   ],
   "source": [
    "list(range(5,-5,-1))"
   ]
  },
  {
   "cell_type": "code",
   "execution_count": 219,
   "metadata": {},
   "outputs": [
    {
     "data": {
      "text/plain": [
       "85176"
      ]
     },
     "execution_count": 219,
     "metadata": {},
     "output_type": "execute_result"
    }
   ],
   "source": [
    "import sys\n",
    "num_squred_ls=[i**2 for i in range(10000)]\n",
    "sys.getsizeof(num_squred_ls)"
   ]
  },
  {
   "cell_type": "code",
   "execution_count": 220,
   "metadata": {},
   "outputs": [
    {
     "data": {
      "text/plain": [
       "208"
      ]
     },
     "execution_count": 220,
     "metadata": {},
     "output_type": "execute_result"
    }
   ],
   "source": [
    "import sys\n",
    "num_squared_gc=(i**2 for i in range(10000))\n",
    "sys.getsizeof(num_squared_gc)"
   ]
  },
  {
   "cell_type": "code",
   "execution_count": 221,
   "metadata": {},
   "outputs": [
    {
     "name": "stdout",
     "output_type": "stream",
     "text": [
      "         5 function calls in 0.001 seconds\n",
      "\n",
      "   Ordered by: standard name\n",
      "\n",
      "   ncalls  tottime  percall  cumtime  percall filename:lineno(function)\n",
      "        1    0.001    0.001    0.001    0.001 <string>:1(<listcomp>)\n",
      "        1    0.000    0.000    0.001    0.001 <string>:1(<module>)\n",
      "        1    0.000    0.000    0.001    0.001 {built-in method builtins.exec}\n",
      "        1    0.000    0.000    0.000    0.000 {built-in method builtins.sum}\n",
      "        1    0.000    0.000    0.000    0.000 {method 'disable' of '_lsprof.Profiler' objects}\n",
      "\n",
      "\n"
     ]
    }
   ],
   "source": [
    "import cProfile\n",
    "cProfile.run('sum([i**2 for i in range(10000)])')"
   ]
  },
  {
   "cell_type": "code",
   "execution_count": null,
   "metadata": {},
   "outputs": [],
   "source": []
  },
  {
   "cell_type": "code",
   "execution_count": 222,
   "metadata": {},
   "outputs": [
    {
     "name": "stdout",
     "output_type": "stream",
     "text": [
      "         10005 function calls in 0.010 seconds\n",
      "\n",
      "   Ordered by: standard name\n",
      "\n",
      "   ncalls  tottime  percall  cumtime  percall filename:lineno(function)\n",
      "    10001    0.003    0.000    0.003    0.000 <string>:1(<genexpr>)\n",
      "        1    0.000    0.000    0.009    0.009 <string>:1(<module>)\n",
      "        1    0.000    0.000    0.010    0.010 {built-in method builtins.exec}\n",
      "        1    0.007    0.007    0.009    0.009 {built-in method builtins.sum}\n",
      "        1    0.000    0.000    0.000    0.000 {method 'disable' of '_lsprof.Profiler' objects}\n",
      "\n",
      "\n"
     ]
    }
   ],
   "source": [
    "import cProfile\n",
    "cProfile.run('sum((i**2 for i in range(10000)))')"
   ]
  },
  {
   "cell_type": "code",
   "execution_count": null,
   "metadata": {},
   "outputs": [],
   "source": []
  },
  {
   "cell_type": "code",
   "execution_count": 223,
   "metadata": {},
   "outputs": [
    {
     "name": "stdout",
     "output_type": "stream",
     "text": [
      "4\n"
     ]
    }
   ],
   "source": [
    "lst=[1,2,3,4]\n",
    "print(max(lst))"
   ]
  },
  {
   "cell_type": "code",
   "execution_count": null,
   "metadata": {},
   "outputs": [],
   "source": []
  }
 ],
 "metadata": {
  "kernelspec": {
   "display_name": "Python 3",
   "language": "python",
   "name": "python3"
  },
  "language_info": {
   "codemirror_mode": {
    "name": "ipython",
    "version": 3
   },
   "file_extension": ".py",
   "mimetype": "text/x-python",
   "name": "python",
   "nbconvert_exporter": "python",
   "pygments_lexer": "ipython3",
   "version": "3.11.4"
  },
  "orig_nbformat": 4
 },
 "nbformat": 4,
 "nbformat_minor": 2
}
